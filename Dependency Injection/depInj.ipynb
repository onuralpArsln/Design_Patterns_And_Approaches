{
 "cells": [
  {
   "cell_type": "markdown",
   "metadata": {},
   "source": [
    "# Dependency Injection"
   ]
  },
  {
   "cell_type": "markdown",
   "metadata": {},
   "source": [
    "Kelime anlamı ile bakarsak bağımlılık enjektesi anlamına gelir. Bu dizayn yaklaşımının amacı ise proje parçalarının bir biri ile daha esnek bir bağ içinde olmasını sağlamaktır. Bu loose coupling olarakta bilinir. Yazılım geliştirirken bir çok noktada elementlerin arsında bağı ve bağımlılıkarı azaltmayı hedefler."
   ]
  },
  {
   "cell_type": "markdown",
   "metadata": {},
   "source": [
    "Bir araç düşünelim, araç çalışmak için motora bağımlıdır. Basit bir motor ve araç sistemi kuralım ve buradaki soruna bakalım."
   ]
  },
  {
   "cell_type": "code",
   "execution_count": null,
   "metadata": {},
   "outputs": [],
   "source": [
    "class Engine():\n",
    "    horsePower=200\n",
    "    cylinder=6\n",
    "\n",
    "class Car():\n",
    "    engine=Engine()\n",
    "    color=\"red\""
   ]
  },
  {
   "cell_type": "markdown",
   "metadata": {},
   "source": [
    "Motor araba sınıfı içinde tanımlandığı için hem farklı motoru alan bir motor araç yapmak çok zordur. Ayrıca motorda değişiklik yaparsan car sınıfını bozulabilir."
   ]
  },
  {
   "cell_type": "markdown",
   "metadata": {},
   "source": [
    "Burada sorun motorun araba içinde inşa edilmesi. Komik olan gerçek hayatta da motoru arabanın içinde inşa etmek mantıksızdır. Bunun yerine motoru ayrı bantta üretip arabanın içine monte etmek daha mantıklıdır. Aynısını yazılım ile yapmakta çok mantıklı."
   ]
  },
  {
   "cell_type": "code",
   "execution_count": 2,
   "metadata": {},
   "outputs": [],
   "source": [
    "class Engine():\n",
    "    horsePower=200\n",
    "    cylinder=6\n",
    "\n",
    "class Car():\n",
    "    color=\"red\"\n",
    "    def __init__(self,engine):\n",
    "        self.engine=engine\n",
    "\n",
    "\n",
    "testEngine = Engine()\n",
    "testCar=Car(testEngine)"
   ]
  },
  {
   "cell_type": "markdown",
   "metadata": {},
   "source": [
    "Bu yapı motoru dışarıdan alabiliyor. hadi daha kaliteli bir motor yapıp içine koymayı deneyelim."
   ]
  },
  {
   "cell_type": "code",
   "execution_count": null,
   "metadata": {},
   "outputs": [],
   "source": [
    "class CoolEngine():\n",
    "    horsePower=800\n",
    "    cylinder=12\n",
    "\n",
    "coolEngine=CoolEngine()\n",
    "secondTestCar= Car(coolEngine)"
   ]
  },
  {
   "cell_type": "markdown",
   "metadata": {},
   "source": [
    "Artık farklı motorları alabilen bir car sınıfımız var. Böylece motor ile ilgili değişiklik yapmamız gerekirse ihtiyacımıza uygun bir motoru car içine ekleyebiliriz.\n"
   ]
  }
 ],
 "metadata": {
  "kernelspec": {
   "display_name": "Python 3",
   "language": "python",
   "name": "python3"
  },
  "language_info": {
   "codemirror_mode": {
    "name": "ipython",
    "version": 3
   },
   "file_extension": ".py",
   "mimetype": "text/x-python",
   "name": "python",
   "nbconvert_exporter": "python",
   "pygments_lexer": "ipython3",
   "version": "3.9.6"
  }
 },
 "nbformat": 4,
 "nbformat_minor": 2
}
