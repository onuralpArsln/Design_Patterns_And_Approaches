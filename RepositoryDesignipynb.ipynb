{
 "cells": [
  {
   "cell_type": "markdown",
   "metadata": {},
   "source": [
    "# Repository Design Pattern"
   ]
  },
  {
   "cell_type": "markdown",
   "metadata": {},
   "source": [
    "Repository Depo manasına gelen bir design patterndir. Bir çok diğer pattern'de olduğu gibi ana amaç parçalar arası bağımlılığı azaltmaktır. \n",
    "    \n",
    "\n",
    "Depo burada verilerin tutulduğu database manasındadır. Bu depoya sürekli her çalışanın girdiği bir firmada kaos kaçınılmazdır. Bu yüzden firmalarda depodan sorumlu ekip farklıdır. Yazılımda da database ile bağlantıyı her ihtiyaç duyulan noktadan ayrı ayrı kurarsak karmaşa kaçınılmazdır. Bunun yerine bir database erişim servisi yazarak erişimi tek noktadan yönetmek ve o programın içinde bu erişim servisi ile database ulaşımını sağlamak her şeyi daha kontrol edilebilir yapar.    \n",
    "\n",
    "Bu örnekte bir database kurmak yerine bir python sözlüğüne database muamelesi yapacağız.  "
   ]
  },
  {
   "cell_type": "code",
   "execution_count": null,
   "metadata": {},
   "outputs": [],
   "source": [
    "dataBase={\n",
    "            1: {\"name\": \"Alice\", \"age\": 30, \"email\": \"alice@example.com\"},\n",
    "            2: {\"name\": \"Bob\", \"age\": 25, \"email\": \"bob@example.com\"},\n",
    "            3: {\"name\": \"Charlie\", \"age\": 35, \"email\": \"charlie@example.com\"},\n",
    "        }"
   ]
  },
  {
   "cell_type": "markdown",
   "metadata": {},
   "source": [
    "keyler id oldu ve biz id kullanarak iç bilgilere erişeceğiz, elbette gerçek bir database böyle değildir ama amacımız konsepti anlamak."
   ]
  },
  {
   "cell_type": "markdown",
   "metadata": {},
   "source": [
    "Aşağıda verilen repositorysiz koda bakalım"
   ]
  },
  {
   "cell_type": "code",
   "execution_count": null,
   "metadata": {},
   "outputs": [],
   "source": [
    "# Basit bir data base objesi\n",
    "class SimpleMockDatabase:\n",
    "    def __init__(self):\n",
    "        self.data = {\n",
    "            1: {\"name\": \"Alice\", \"age\": 30, \"email\": \"alice@example.com\"},\n",
    "            2: {\"name\": \"Bob\", \"age\": 25, \"email\": \"bob@example.com\"},\n",
    "            3: {\"name\": \"Charlie\", \"age\": 35, \"email\": \"charlie@example.com\"},\n",
    "        }\n",
    "        self.next_id = 4\n",
    "\n",
    "# data base bilgilerine erişim kodları var\n",
    "    def get_all(self):\n",
    "        return list(self.data.values())\n",
    "\n",
    "    def get_by_id(self, record_id):\n",
    "        return self.data.get(record_id, None)\n",
    "\n",
    "    def add(self, record):\n",
    "        record_id = self.next_id\n",
    "        self.data[record_id] = record\n",
    "        self.next_id += 1\n",
    "        return record_id\n",
    "\n",
    "    def update(self, record_id, updated_record):\n",
    "        if record_id in self.data:\n",
    "            self.data[record_id].update(updated_record)\n",
    "            return True\n",
    "        return False\n",
    "\n",
    "    def delete(self, record_id):\n",
    "        return self.data.pop(record_id, None) is not None\n",
    "\n",
    "# uygulama içinde data base direkt olarak kullanılmış\n",
    "# bunlar bir grup değil uygulamana yayılmış olarak bulunuyor \n",
    "# (eğer bir yere gruplarsan repository olacak zaten)\n",
    "# farklı sayfalarda bu fonksiyonların kullanıldığını düşün\n",
    "#  bir değişiklikte her yerde bu kodların olduğunu düşün\n",
    "\n",
    "def list_users():\n",
    "    db = SimpleMockDatabase()\n",
    "    return db.get_all()\n",
    "\n",
    "def find_user(user_id):\n",
    "    db = SimpleMockDatabase()\n",
    "    return db.get_by_id(user_id)\n",
    "\n",
    "def create_user(name, age, email):\n",
    "    db = SimpleMockDatabase()\n",
    "    return db.add({\"name\": name, \"age\": age, \"email\": email})\n",
    "\n",
    "def update_user(user_id, name=None, age=None, email=None):\n",
    "    db = SimpleMockDatabase()\n",
    "    return db.update(user_id, {\"name\": name, \"age\": age, \"email\": email})\n",
    "\n",
    "def delete_user(user_id):\n",
    "    db = SimpleMockDatabase()\n",
    "    return db.delete(user_id)\n",
    "\n",
    "# kod içinde bu fonkisyonların kullanımı \n",
    "print(list_users())\n",
    "print(find_user(1))\n",
    "print(create_user(\"Diana\", 28, \"diana@example.com\"))\n",
    "print(update_user(1, age=31))\n",
    "print(delete_user(2))"
   ]
  },
  {
   "cell_type": "markdown",
   "metadata": {},
   "source": [
    "yaşanabilecek bir problem\n"
   ]
  },
  {
   "cell_type": "code",
   "execution_count": null,
   "metadata": {},
   "outputs": [],
   "source": [
    "def list_users():\n",
    "    db = SimpleMockDatabase()\n",
    "    return db.get_all()"
   ]
  },
  {
   "cell_type": "markdown",
   "metadata": {},
   "source": [
    "fonksiyon direkt data base ile ilişkiye geçiyor ancak farklı bir database geçişi yapacak olsak bu fonksiyonları yeniden yazmamız gerekecek."
   ]
  },
  {
   "cell_type": "code",
   "execution_count": null,
   "metadata": {},
   "outputs": [],
   "source": [
    "def test_find_user():\n",
    "    db = SimpleMockDatabase()\n",
    "    db.add({\"name\": \"Test User\", \"age\": 30, \"email\": \"test@example.com\"})\n",
    "    result = db.get_by_id(1)\n",
    "    assert result[\"name\"] == \"Test User\"\n"
   ]
  },
  {
   "cell_type": "markdown",
   "metadata": {},
   "source": [
    "bir test oluşturmak için database içine direk erişiliyor ancak bunun için databaselere direkt ulaşma  ayrı bir connection oluşturmak gerekiyor. "
   ]
  },
  {
   "cell_type": "markdown",
   "metadata": {},
   "source": [
    "Tüm database bağlantılarını tek bir merkeze toplama : repository design pattern"
   ]
  },
  {
   "cell_type": "code",
   "execution_count": null,
   "metadata": {},
   "outputs": [],
   "source": [
    "# Database erişimi tek bir class üzerinden yönetilir.\n",
    "class UserRepository:\n",
    "    def __init__(self):\n",
    "        self.db = SimpleMockDatabase()\n",
    "\n",
    "    def get_all(self):\n",
    "        return self.db.get_all()\n",
    "\n",
    "    def get_by_id(self, record_id):\n",
    "        return self.db.get_by_id(record_id)\n",
    "\n",
    "    def add(self, record):\n",
    "        return self.db.add(record)\n",
    "\n",
    "    def update(self, record_id, updated_record):\n",
    "        return self.db.update(record_id, updated_record)\n",
    "\n",
    "    def delete(self, record_id):\n",
    "        return self.db.delete(record_id)\n",
    "\n",
    "# Kodun içindeki kodlar direkt database ulaşımı yerine \n",
    "# senin oluşturduğun data base  erişim sınıfıyla çalışır \n",
    "def list_users(repo):\n",
    "    return repo.get_all()\n",
    "\n",
    "def find_user(repo, user_id):\n",
    "    return repo.get_by_id(user_id)\n",
    "\n",
    "def create_user(repo, name, age, email):\n",
    "    return repo.add({\"name\": name, \"age\": age, \"email\": email})\n",
    "\n",
    "def update_user(repo, user_id, name=None, age=None, email=None):\n",
    "    return repo.update(user_id, {\"name\": name, \"age\": age, \"email\": email})\n",
    "\n",
    "def delete_user(repo, user_id):\n",
    "    return repo.delete(user_id)\n",
    "\n",
    "# reponu oluşturduktan sonra bunu kullanırsın eğer \n",
    "# database değişirse reponu değiştir.\n",
    "repo = UserRepository()\n",
    "print(list_users(repo))\n",
    "print(find_user(repo, 1))\n",
    "print(create_user(repo, \"Diana\", 28, \"diana@example.com\"))\n",
    "print(update_user(repo, 1, age=31))\n",
    "print(delete_user(repo, 2))\n"
   ]
  }
 ],
 "metadata": {
  "language_info": {
   "name": "python"
  }
 },
 "nbformat": 4,
 "nbformat_minor": 2
}
