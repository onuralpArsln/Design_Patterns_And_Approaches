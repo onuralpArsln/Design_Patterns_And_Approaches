{
 "cells": [
  {
   "cell_type": "markdown",
   "metadata": {},
   "source": [
    "# Specification Design Pattern"
   ]
  },
  {
   "cell_type": "markdown",
   "metadata": {},
   "source": [
    "Specification bazen dilimizde de spesifikasyonlar şeklinde kullanılan karşılığı özellikler/nitelikler olarak verilebilir. "
   ]
  },
  {
   "cell_type": "markdown",
   "metadata": {},
   "source": [
    "Oluşturulan bir nesnenin ihtiyaç duyulan özelliklere sahip olduğunu doğrulamak üzere kullanılır."
   ]
  },
  {
   "cell_type": "markdown",
   "metadata": {},
   "source": [
    "Bu databaseden çekilen itemleri filtreleme yada kontrol mekanizması olarak kullanabilirsin."
   ]
  },
  {
   "cell_type": "code",
   "execution_count": 1,
   "metadata": {},
   "outputs": [],
   "source": [
    "# temel bir özellik doğrulama iskeleti\n",
    "class Specification:\n",
    "    def is_satisfied_by(self, item):\n",
    "        raise NotImplementedError\n"
   ]
  },
  {
   "cell_type": "code",
   "execution_count": 2,
   "metadata": {},
   "outputs": [],
   "source": [
    "# bu örnekte bir fiyat doğrulaması yapacağız\n",
    "class PriceSpecification(Specification):\n",
    "    def __init__(self, price):\n",
    "        self.price = price\n",
    "\n",
    "    def is_satisfied_by(self, item):\n",
    "        return item.price <= self.price\n",
    "# specification doğru yanlış döner evet hayır uygun uygun değil nettir"
   ]
  },
  {
   "cell_type": "code",
   "execution_count": 3,
   "metadata": {},
   "outputs": [],
   "source": [
    "# filtre oluşturmak için bir sınıf\n",
    "# filtre specification uygular\n",
    "class Filter:\n",
    "    def filter(self, items, specification):\n",
    "        return [item for item in items if specification.is_satisfied_by(item)]\n"
   ]
  },
  {
   "cell_type": "code",
   "execution_count": 7,
   "metadata": {},
   "outputs": [],
   "source": [
    "# birazdan prodcutları listeleyeceğiz. Bunun için product classını tanımlıyoruz\n",
    "class Product:\n",
    "    def __init__(self, name, price):\n",
    "        self.name = name\n",
    "        self.price = price\n",
    "\n",
    "    def __repr__(self):\n",
    "        return f\"{self.name} (${self.price})\"\n"
   ]
  },
  {
   "cell_type": "code",
   "execution_count": 8,
   "metadata": {},
   "outputs": [
    {
     "name": "stdout",
     "output_type": "stream",
     "text": [
      "[Mouse ($50), Keyboard ($75), Monitor ($300)]\n"
     ]
    }
   ],
   "source": [
    "# product objeleri üret\n",
    "products = [\n",
    "    Product('Laptop', 1000),\n",
    "    Product('Mouse', 50),\n",
    "    Product('Keyboard', 75),\n",
    "    Product('Monitor', 300)\n",
    "]\n",
    "\n",
    "# fiyatı limiti için bir spesifikasyon yarat\n",
    "price_spec = PriceSpecification(500)\n",
    "\n",
    "# filtreleme için bir filtre objesi yarat ve filtre kuralı olan spesifikasyonu yaz\n",
    "filter = Filter()\n",
    "filtered_products = filter.filter(products, price_spec)\n",
    "\n",
    "# filtre sonuçlarını al\n",
    "print(filtered_products)\n"
   ]
  }
 ],
 "metadata": {
  "kernelspec": {
   "display_name": "Python 3",
   "language": "python",
   "name": "python3"
  },
  "language_info": {
   "codemirror_mode": {
    "name": "ipython",
    "version": 3
   },
   "file_extension": ".py",
   "mimetype": "text/x-python",
   "name": "python",
   "nbconvert_exporter": "python",
   "pygments_lexer": "ipython3",
   "version": "3.9.6"
  }
 },
 "nbformat": 4,
 "nbformat_minor": 2
}
