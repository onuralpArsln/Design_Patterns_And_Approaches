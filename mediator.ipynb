{
 "cells": [
  {
   "cell_type": "markdown",
   "metadata": {},
   "source": [
    "# Mediator "
   ]
  },
  {
   "cell_type": "markdown",
   "metadata": {},
   "source": [
    "Mediator iki taraf arasında uzlaşma sağlamak için çalışsan kişi, arabulucu demektir.\n",
    "Yazılımda ise mediator bir biri ile haberleşmesi istenen nesneler için ara katman oluşturmaktır.    \n",
    "\n",
    "Peki bu neden gerekli?       \n",
    "\n",
    "Bir biri ile haberleşecek nesnelerin bir birini tanıması bir bağımlılık yaratır. Bir nesnede yapılacak değişiklik ya da o nesneden miras alınarak oluşturulacak diğer nesneler sistemi bozabilir. Ya da birden çok nesnenin ortak iletişime geçtiği bir nesnedeki ufak değişim tüm projeyi zora sokabilir.      \n",
    "\n",
    "Bunun yerine iki tarafla da haberleşen bir mediator yapısı loose coupling sağlar.\n",
    "\n"
   ]
  },
  {
   "cell_type": "code",
   "execution_count": 1,
   "metadata": {},
   "outputs": [],
   "source": [
    "# mediator için temel bir yapı oluşturduk\n",
    "class ChatRoomMediator():\n",
    "    def show_message(self, user, message):\n",
    "        pass\n"
   ]
  },
  {
   "cell_type": "code",
   "execution_count": 2,
   "metadata": {},
   "outputs": [],
   "source": [
    "# mediator yapısını chat rooma ekledik inherit ile \n",
    "# bunu iki parçalı yapmakta bize loose coupling sağlıyor\n",
    "class ChatRoom(ChatRoomMediator):\n",
    "    def show_message(self, user, message):\n",
    "        print(f\"[{user.name}]: {message}\")\n"
   ]
  },
  {
   "cell_type": "code",
   "execution_count": 3,
   "metadata": {},
   "outputs": [],
   "source": [
    "## birbiri ile haberleşecek objeleri yaratıyoruz\n",
    "class User:\n",
    "    def __init__(self, name, chatroom):\n",
    "        self.name = name\n",
    "        self.chatroom = chatroom\n",
    "    \n",
    "    def send_message(self, message):\n",
    "        self.chatroom.show_message(self, message)\n"
   ]
  },
  {
   "cell_type": "code",
   "execution_count": 5,
   "metadata": {},
   "outputs": [
    {
     "name": "stdout",
     "output_type": "stream",
     "text": [
      "[Alice]: Hi Bob!\n",
      "[Bob]: Hello Alice!\n",
      "[Charlie]: Good morning everyone!\n"
     ]
    }
   ],
   "source": [
    "if __name__ == \"__main__\":\n",
    "    chatroom = ChatRoom()\n",
    "\n",
    "# chatroom ve mediator ayrı olduğu için mediator değişimi bu user\n",
    "# oluşumlarını etkilemez\n",
    "    user1 = User(\"Alice\", chatroom)\n",
    "    user2 = User(\"Bob\", chatroom)\n",
    "    user3 = User(\"Charlie\", chatroom)\n",
    "\n",
    "    user1.send_message(\"Hi Bob!\")\n",
    "    user2.send_message(\"Hello Alice!\")\n",
    "    user3.send_message(\"Good morning everyone!\")\n"
   ]
  }
 ],
 "metadata": {
  "kernelspec": {
   "display_name": "Python 3",
   "language": "python",
   "name": "python3"
  },
  "language_info": {
   "codemirror_mode": {
    "name": "ipython",
    "version": 3
   },
   "file_extension": ".py",
   "mimetype": "text/x-python",
   "name": "python",
   "nbconvert_exporter": "python",
   "pygments_lexer": "ipython3",
   "version": "3.9.6"
  }
 },
 "nbformat": 4,
 "nbformat_minor": 2
}
