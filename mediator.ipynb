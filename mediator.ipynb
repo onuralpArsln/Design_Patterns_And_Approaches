{
 "cells": [
  {
   "cell_type": "markdown",
   "metadata": {},
   "source": [
    "# Mediator "
   ]
  },
  {
   "cell_type": "markdown",
   "metadata": {},
   "source": [
    "Mediator iki taraf arasında uzlaşma sağlamak için çalışsan kişi, arabulucu demektir.\n",
    "Yazılımda ise mediator bir biri ile haberleşmesi istenen nesneler için ara katman oluşturmaktır.    \n",
    "\n",
    "Peki bu neden gerekli?       \n",
    "\n",
    "Bir biri ile haberleşecek nesnelerin bir birini tanıması bir bağımlılık yaratır. Bir nesnede yapılacak değişiklik ya da o nesneden miras alınarak oluşturulacak diğer nesneler sistemi bozabilir. Ya da birden çok nesnenin ortak iletişime geçtiği bir nesnedeki ufak değişim tüm projeyi zora sokabilir.      \n",
    "\n",
    "Bunun yerine iki taraflada haberleşen bir mediator yapısı loose coupling sağlar.\n",
    "\n"
   ]
  },
  {
   "cell_type": "code",
   "execution_count": null,
   "metadata": {},
   "outputs": [],
   "source": []
  }
 ],
 "metadata": {
  "language_info": {
   "name": "python"
  }
 },
 "nbformat": 4,
 "nbformat_minor": 2
}
